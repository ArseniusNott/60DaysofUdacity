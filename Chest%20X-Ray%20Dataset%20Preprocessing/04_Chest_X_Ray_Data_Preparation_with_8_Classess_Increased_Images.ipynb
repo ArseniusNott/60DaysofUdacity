{
  "nbformat": 4,
  "nbformat_minor": 0,
  "metadata": {
    "colab": {
      "name": "Chest X Ray Data Preparation with 8 Classess Increased Images.ipynb",
      "version": "0.3.2",
      "provenance": [],
      "collapsed_sections": [],
      "include_colab_link": true
    },
    "kernelspec": {
      "name": "python3",
      "display_name": "Python 3"
    },
    "accelerator": "GPU"
  },
  "cells": [
    {
      "cell_type": "markdown",
      "metadata": {
        "id": "view-in-github",
        "colab_type": "text"
      },
      "source": [
        "<a href=\"https://colab.research.google.com/github/ArseniusNott/60DaysofUdacity/blob/master/Chest%2520X-Ray%2520Dataset%2520Preprocessing/04_Chest_X_Ray_Data_Preparation_with_8_Classess_Increased_Images.ipynb\" target=\"_parent\"><img src=\"https://colab.research.google.com/assets/colab-badge.svg\" alt=\"Open In Colab\"/></a>"
      ]
    },
    {
      "cell_type": "code",
      "metadata": {
        "id": "fI9BowaczvdJ",
        "colab_type": "code",
        "colab": {}
      },
      "source": [
        "# necessary imports\n",
        "import matplotlib.pyplot as plt\n",
        "import pandas as pd\n",
        "import numpy as np\n",
        "\n",
        "import seaborn as sns\n",
        "import matplotlib.pyplot as plt\n",
        "\n",
        "import os\n",
        "import shutil"
      ],
      "execution_count": 0,
      "outputs": []
    },
    {
      "cell_type": "code",
      "metadata": {
        "id": "8mUdcbcZ4e5V",
        "colab_type": "code",
        "outputId": "25b8b1db-a443-4a9e-d59b-5294d4d210e2",
        "colab": {
          "resources": {
            "http://localhost:8080/nbextensions/google.colab/files.js": {
              "data": "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",
              "ok": true,
              "headers": [
                [
                  "content-type",
                  "application/javascript"
                ]
              ],
              "status": 200,
              "status_text": ""
            }
          },
          "base_uri": "https://localhost:8080/",
          "height": 74
        }
      },
      "source": [
        "# uploaded the kaggle API. You do not need to know this :D\n",
        "from google.colab import files\n",
        "files.upload()\n",
        "\n",
        "!pip install -q kaggle\n",
        "!mkdir -p ~/.kaggle\n",
        "!cp kaggle.json ~/.kaggle/\n",
        "!chmod 600 /root/.kaggle/kaggle.json"
      ],
      "execution_count": 0,
      "outputs": [
        {
          "output_type": "display_data",
          "data": {
            "text/html": [
              "\n",
              "     <input type=\"file\" id=\"files-fa14bfd9-519f-4221-baf0-51cef26ac2d5\" name=\"files[]\" multiple disabled />\n",
              "     <output id=\"result-fa14bfd9-519f-4221-baf0-51cef26ac2d5\">\n",
              "      Upload widget is only available when the cell has been executed in the\n",
              "      current browser session. Please rerun this cell to enable.\n",
              "      </output>\n",
              "      <script src=\"/nbextensions/google.colab/files.js\"></script> "
            ],
            "text/plain": [
              "<IPython.core.display.HTML object>"
            ]
          },
          "metadata": {
            "tags": []
          }
        },
        {
          "output_type": "stream",
          "text": [
            "Saving kaggle.json to kaggle (1).json\n"
          ],
          "name": "stdout"
        }
      ]
    },
    {
      "cell_type": "code",
      "metadata": {
        "id": "YGsFsPOl04Qj",
        "colab_type": "code",
        "outputId": "2dfd2c08-7da4-4123-c396-6005d102a028",
        "colab": {
          "base_uri": "https://localhost:8080/",
          "height": 68
        }
      },
      "source": [
        "!kaggle datasets download -d nih-chest-xrays/data --force"
      ],
      "execution_count": 0,
      "outputs": [
        {
          "output_type": "stream",
          "text": [
            "Downloading data.zip to /content\n",
            "100% 42.0G/42.0G [08:33<00:00, 123MB/s]\n",
            "100% 42.0G/42.0G [08:33<00:00, 87.8MB/s]\n"
          ],
          "name": "stdout"
        }
      ]
    },
    {
      "cell_type": "code",
      "metadata": {
        "id": "h2jazmuxk5Kj",
        "colab_type": "code",
        "colab": {}
      },
      "source": [
        "data_location = \"/content/x_ray_dataset\"\n",
        "import zipfile\n",
        "with zipfile.ZipFile(\"./data.zip\", 'r') as zip_ref:\n",
        "    zip_ref.extractall(data_location)"
      ],
      "execution_count": 0,
      "outputs": []
    },
    {
      "cell_type": "code",
      "metadata": {
        "id": "Q9tXCk_0pUPh",
        "colab_type": "code",
        "colab": {}
      },
      "source": [
        "# extract each image in x_ray_images_folder\n",
        "import glob, os\n",
        "\n",
        "zip_files = []\n",
        "os.chdir(data_location)\n",
        "for file in glob.glob(\"*.zip\"):\n",
        "    zip_files.append(file)"
      ],
      "execution_count": 0,
      "outputs": []
    },
    {
      "cell_type": "code",
      "metadata": {
        "id": "G9AP2nkkrSJf",
        "colab_type": "code",
        "outputId": "22395f65-559e-4493-c8c1-1d57f5453790",
        "colab": {
          "base_uri": "https://localhost:8080/",
          "height": 221
        }
      },
      "source": [
        "# extract zip files and remove zip files that are already been extracted\n",
        "images_directory = \"/content/x_ray_dataset/images\"\n",
        "for filename in os.listdir(data_location):\n",
        "    if filename.endswith(\".zip\"):\n",
        "        print(filename)\n",
        "        try:\n",
        "            zip = zipfile.ZipFile(filename)\n",
        "            zip.extractall(path=images_directory)\n",
        "        except zipfile.BadZipfile as e:\n",
        "            print(\"BAD ZIP: \"+filename)\n",
        "        \n",
        "        # remove zip file\n",
        "        try:\n",
        "            os.remove(filename)\n",
        "        except OSError as e:\n",
        "            if e.errno != errno.ENOENT: \n",
        "                raise "
      ],
      "execution_count": 0,
      "outputs": [
        {
          "output_type": "stream",
          "text": [
            "images_012.zip\n",
            "images_011.zip\n",
            "images_004.zip\n",
            "images_009.zip\n",
            "images_010.zip\n",
            "images_005.zip\n",
            "images_008.zip\n",
            "images_003.zip\n",
            "images_006.zip\n",
            "images_002.zip\n",
            "images_001.zip\n",
            "images_007.zip\n"
          ],
          "name": "stdout"
        }
      ]
    },
    {
      "cell_type": "code",
      "metadata": {
        "id": "thltxUnTwFpA",
        "colab_type": "code",
        "colab": {}
      },
      "source": [
        "data_entry = pd.read_csv(\"/content/x_ray_dataset/Data_Entry_2017.csv\")\n",
        "data_entry.head()\n",
        "\n",
        "def create_bar_plot_from_value_counts(df, custom_title):\n",
        "    sns.barplot(df.index, df.values)\n",
        "    plt.title(custom_title)\n",
        "    plt.ylabel('Number of Occurrences', fontsize=12)\n",
        "    plt.xlabel('Classes', fontsize=12)\n",
        "    plt.xticks(rotation='vertical')\n",
        "    plt.figure(figsize=(10,5))\n",
        "    plt.show()"
      ],
      "execution_count": 0,
      "outputs": []
    },
    {
      "cell_type": "code",
      "metadata": {
        "id": "-sooU_YnKw-C",
        "colab_type": "code",
        "colab": {}
      },
      "source": [
        "# parse classes per image and put them in their respective columns\n",
        "data_entry_bck = pd.DataFrame.copy(data_entry)\n",
        "classes = data_entry.loc[:, \"Finding Labels\"].str.split(\"|\", expand = True) \n",
        "\n",
        "for i in range(classes.shape[1]):\n",
        "    column_name = \"Label \" + str(i + 1)\n",
        "    data_entry[column_name] = classes[i]"
      ],
      "execution_count": 0,
      "outputs": []
    },
    {
      "cell_type": "code",
      "metadata": {
        "id": "zpswjwg1Xszg",
        "colab_type": "code",
        "outputId": "7e57459b-9112-421f-8ec5-f789b215c025",
        "colab": {
          "base_uri": "https://localhost:8080/",
          "height": 241
        }
      },
      "source": [
        "data_entry.head()"
      ],
      "execution_count": 0,
      "outputs": [
        {
          "output_type": "execute_result",
          "data": {
            "text/html": [
              "<div>\n",
              "<style scoped>\n",
              "    .dataframe tbody tr th:only-of-type {\n",
              "        vertical-align: middle;\n",
              "    }\n",
              "\n",
              "    .dataframe tbody tr th {\n",
              "        vertical-align: top;\n",
              "    }\n",
              "\n",
              "    .dataframe thead th {\n",
              "        text-align: right;\n",
              "    }\n",
              "</style>\n",
              "<table border=\"1\" class=\"dataframe\">\n",
              "  <thead>\n",
              "    <tr style=\"text-align: right;\">\n",
              "      <th></th>\n",
              "      <th>Image Index</th>\n",
              "      <th>Finding Labels</th>\n",
              "      <th>Follow-up #</th>\n",
              "      <th>Patient ID</th>\n",
              "      <th>Patient Age</th>\n",
              "      <th>Patient Gender</th>\n",
              "      <th>View Position</th>\n",
              "      <th>OriginalImage[Width</th>\n",
              "      <th>Height]</th>\n",
              "      <th>OriginalImagePixelSpacing[x</th>\n",
              "      <th>y]</th>\n",
              "      <th>Unnamed: 11</th>\n",
              "      <th>Label 1</th>\n",
              "      <th>Label 2</th>\n",
              "      <th>Label 3</th>\n",
              "      <th>Label 4</th>\n",
              "      <th>Label 5</th>\n",
              "      <th>Label 6</th>\n",
              "      <th>Label 7</th>\n",
              "      <th>Label 8</th>\n",
              "      <th>Label 9</th>\n",
              "    </tr>\n",
              "  </thead>\n",
              "  <tbody>\n",
              "    <tr>\n",
              "      <th>0</th>\n",
              "      <td>00000001_000.png</td>\n",
              "      <td>Cardiomegaly</td>\n",
              "      <td>0</td>\n",
              "      <td>1</td>\n",
              "      <td>58</td>\n",
              "      <td>M</td>\n",
              "      <td>PA</td>\n",
              "      <td>2682</td>\n",
              "      <td>2749</td>\n",
              "      <td>0.143</td>\n",
              "      <td>0.143</td>\n",
              "      <td>NaN</td>\n",
              "      <td>Cardiomegaly</td>\n",
              "      <td>None</td>\n",
              "      <td>None</td>\n",
              "      <td>None</td>\n",
              "      <td>None</td>\n",
              "      <td>None</td>\n",
              "      <td>None</td>\n",
              "      <td>None</td>\n",
              "      <td>None</td>\n",
              "    </tr>\n",
              "    <tr>\n",
              "      <th>1</th>\n",
              "      <td>00000001_001.png</td>\n",
              "      <td>Cardiomegaly|Emphysema</td>\n",
              "      <td>1</td>\n",
              "      <td>1</td>\n",
              "      <td>58</td>\n",
              "      <td>M</td>\n",
              "      <td>PA</td>\n",
              "      <td>2894</td>\n",
              "      <td>2729</td>\n",
              "      <td>0.143</td>\n",
              "      <td>0.143</td>\n",
              "      <td>NaN</td>\n",
              "      <td>Cardiomegaly</td>\n",
              "      <td>Emphysema</td>\n",
              "      <td>None</td>\n",
              "      <td>None</td>\n",
              "      <td>None</td>\n",
              "      <td>None</td>\n",
              "      <td>None</td>\n",
              "      <td>None</td>\n",
              "      <td>None</td>\n",
              "    </tr>\n",
              "    <tr>\n",
              "      <th>2</th>\n",
              "      <td>00000001_002.png</td>\n",
              "      <td>Cardiomegaly|Effusion</td>\n",
              "      <td>2</td>\n",
              "      <td>1</td>\n",
              "      <td>58</td>\n",
              "      <td>M</td>\n",
              "      <td>PA</td>\n",
              "      <td>2500</td>\n",
              "      <td>2048</td>\n",
              "      <td>0.168</td>\n",
              "      <td>0.168</td>\n",
              "      <td>NaN</td>\n",
              "      <td>Cardiomegaly</td>\n",
              "      <td>Effusion</td>\n",
              "      <td>None</td>\n",
              "      <td>None</td>\n",
              "      <td>None</td>\n",
              "      <td>None</td>\n",
              "      <td>None</td>\n",
              "      <td>None</td>\n",
              "      <td>None</td>\n",
              "    </tr>\n",
              "    <tr>\n",
              "      <th>3</th>\n",
              "      <td>00000002_000.png</td>\n",
              "      <td>No Finding</td>\n",
              "      <td>0</td>\n",
              "      <td>2</td>\n",
              "      <td>81</td>\n",
              "      <td>M</td>\n",
              "      <td>PA</td>\n",
              "      <td>2500</td>\n",
              "      <td>2048</td>\n",
              "      <td>0.171</td>\n",
              "      <td>0.171</td>\n",
              "      <td>NaN</td>\n",
              "      <td>No Finding</td>\n",
              "      <td>None</td>\n",
              "      <td>None</td>\n",
              "      <td>None</td>\n",
              "      <td>None</td>\n",
              "      <td>None</td>\n",
              "      <td>None</td>\n",
              "      <td>None</td>\n",
              "      <td>None</td>\n",
              "    </tr>\n",
              "    <tr>\n",
              "      <th>4</th>\n",
              "      <td>00000003_000.png</td>\n",
              "      <td>Hernia</td>\n",
              "      <td>0</td>\n",
              "      <td>3</td>\n",
              "      <td>81</td>\n",
              "      <td>F</td>\n",
              "      <td>PA</td>\n",
              "      <td>2582</td>\n",
              "      <td>2991</td>\n",
              "      <td>0.143</td>\n",
              "      <td>0.143</td>\n",
              "      <td>NaN</td>\n",
              "      <td>Hernia</td>\n",
              "      <td>None</td>\n",
              "      <td>None</td>\n",
              "      <td>None</td>\n",
              "      <td>None</td>\n",
              "      <td>None</td>\n",
              "      <td>None</td>\n",
              "      <td>None</td>\n",
              "      <td>None</td>\n",
              "    </tr>\n",
              "  </tbody>\n",
              "</table>\n",
              "</div>"
            ],
            "text/plain": [
              "        Image Index          Finding Labels  ...  Label 8  Label 9\n",
              "0  00000001_000.png            Cardiomegaly  ...     None     None\n",
              "1  00000001_001.png  Cardiomegaly|Emphysema  ...     None     None\n",
              "2  00000001_002.png   Cardiomegaly|Effusion  ...     None     None\n",
              "3  00000002_000.png              No Finding  ...     None     None\n",
              "4  00000003_000.png                  Hernia  ...     None     None\n",
              "\n",
              "[5 rows x 21 columns]"
            ]
          },
          "metadata": {
            "tags": []
          },
          "execution_count": 15
        }
      ]
    },
    {
      "cell_type": "code",
      "metadata": {
        "id": "JOmiNEu4Zh5p",
        "colab_type": "code",
        "outputId": "55636a20-dff0-4d4e-aa42-1325e53439c0",
        "colab": {
          "base_uri": "https://localhost:8080/",
          "height": 68
        }
      },
      "source": [
        "# unique classes\n",
        "unique_classes = classes[0].unique()\n",
        "print(unique_classes)"
      ],
      "execution_count": 0,
      "outputs": [
        {
          "output_type": "stream",
          "text": [
            "['Cardiomegaly' 'No Finding' 'Hernia' 'Mass' 'Infiltration' 'Effusion'\n",
            " 'Nodule' 'Emphysema' 'Atelectasis' 'Pleural_Thickening' 'Pneumothorax'\n",
            " 'Fibrosis' 'Consolidation' 'Edema' 'Pneumonia']\n"
          ],
          "name": "stdout"
        }
      ]
    },
    {
      "cell_type": "code",
      "metadata": {
        "id": "H48YYYG7huHS",
        "colab_type": "code",
        "outputId": "926b933c-aa53-47e1-ee2d-75a595cc0b91",
        "colab": {
          "base_uri": "https://localhost:8080/",
          "height": 671
        }
      },
      "source": [
        "frequency_of_classes_present_in_all_images = classes[:].melt().iloc[:,1].value_counts()\n",
        "\n",
        "create_bar_plot_from_value_counts(frequency_of_classes_present_in_all_images,\n",
        "                                 \"Frequency per Class Accounting for All Classes Present on Multilabel Images\")\n",
        "\n",
        "print(frequency_of_classes_present_in_all_images)\n"
      ],
      "execution_count": 0,
      "outputs": [
        {
          "output_type": "display_data",
          "data": {
            "image/png": "[encoded data removed]",
            "text/plain": [
              "<Figure size 432x288 with 1 Axes>"
            ]
          },
          "metadata": {
            "tags": []
          }
        },
        {
          "output_type": "display_data",
          "data": {
            "text/plain": [
              "<Figure size 720x360 with 0 Axes>"
            ]
          },
          "metadata": {
            "tags": []
          }
        },
        {
          "output_type": "stream",
          "text": [
            "No Finding            60361\n",
            "Infiltration          19894\n",
            "Effusion              13317\n",
            "Atelectasis           11559\n",
            "Nodule                 6331\n",
            "Mass                   5782\n",
            "Pneumothorax           5302\n",
            "Consolidation          4667\n",
            "Pleural_Thickening     3385\n",
            "Cardiomegaly           2776\n",
            "Emphysema              2516\n",
            "Edema                  2303\n",
            "Fibrosis               1686\n",
            "Pneumonia              1431\n",
            "Hernia                  227\n",
            "Name: value, dtype: int64\n"
          ],
          "name": "stdout"
        }
      ]
    },
    {
      "cell_type": "code",
      "metadata": {
        "id": "o82HUAeh0YJK",
        "colab_type": "code",
        "colab": {}
      },
      "source": [
        "# We are only interested in images with only one classes in them so we need to extract them using the following function\n",
        "\n",
        "def read_csv_file(csv_filename, chunksize=10):\n",
        "    indexer = 0\n",
        "    \n",
        "    columns = [\"Image Index\", \"Finding Labels\", \"View Position\"]\n",
        "    \n",
        "    images_and_labels = []\n",
        "    \n",
        "    count = 0\n",
        "    for chunk in pd.read_csv(csv_filename, chunksize=chunksize):\n",
        "        \n",
        "        if(indexer == 10):\n",
        "            break;\n",
        "        \n",
        "        image_indexes = chunk.iloc[:, 0]\n",
        "        image_labels = chunk.iloc[:, 1]\n",
        "        view_position = chunk.iloc[:, 6]\n",
        "        \n",
        "        for i in range(len(image_indexes)):\n",
        "            split_length = len(image_labels.iloc[i].split(\"|\"))\n",
        "            if(split_length == 1):\n",
        "                count = count + 1\n",
        "                images_and_labels.append([image_indexes.iloc[i], \n",
        "                                          image_labels.iloc[i],\n",
        "                                          view_position.iloc[i]\n",
        "                                         ])\n",
        "                \n",
        "    images_and_labels = pd.DataFrame.from_records(images_and_labels, columns=columns)\n",
        "    \n",
        "    return images_and_labels\n",
        "        \n",
        "images_with_one_label = read_csv_file(\"/content/x_ray_dataset/Data_Entry_2017.csv\", \n",
        "                                      chunksize=10)"
      ],
      "execution_count": 0,
      "outputs": []
    },
    {
      "cell_type": "code",
      "metadata": {
        "id": "DFVHJYCF1LmT",
        "colab_type": "code",
        "outputId": "7d728ae8-1ca9-4f3b-caec-9fa51177368e",
        "colab": {
          "base_uri": "https://localhost:8080/",
          "height": 671
        }
      },
      "source": [
        "frequency_of_classes_for_images_with_sole_class_labels = images_with_one_label[\"Finding Labels\"].value_counts()\n",
        "\n",
        "create_bar_plot_from_value_counts(frequency_of_classes_for_images_with_sole_class_labels,\n",
        "                                 \"Frequency per Class with Images Only Labeled with Just One Class\")\n",
        "\n",
        "print(frequency_of_classes_for_images_with_sole_class_labels)"
      ],
      "execution_count": 0,
      "outputs": [
        {
          "output_type": "display_data",
          "data": {
            "image/png": "[encoded data removed]",
            "text/plain": [
              "<Figure size 432x288 with 1 Axes>"
            ]
          },
          "metadata": {
            "tags": []
          }
        },
        {
          "output_type": "display_data",
          "data": {
            "text/plain": [
              "<Figure size 720x360 with 0 Axes>"
            ]
          },
          "metadata": {
            "tags": []
          }
        },
        {
          "output_type": "stream",
          "text": [
            "No Finding            60361\n",
            "Infiltration           9547\n",
            "Atelectasis            4215\n",
            "Effusion               3955\n",
            "Nodule                 2705\n",
            "Pneumothorax           2194\n",
            "Mass                   2139\n",
            "Consolidation          1310\n",
            "Pleural_Thickening     1126\n",
            "Cardiomegaly           1093\n",
            "Emphysema               892\n",
            "Fibrosis                727\n",
            "Edema                   628\n",
            "Pneumonia               322\n",
            "Hernia                  110\n",
            "Name: Finding Labels, dtype: int64\n"
          ],
          "name": "stdout"
        }
      ]
    },
    {
      "cell_type": "code",
      "metadata": {
        "id": "xVBQ2VPg2pqY",
        "colab_type": "code",
        "colab": {}
      },
      "source": [
        "# Separate images in their respective directories\n",
        "# for the lack of good directory name, use images_per_class\n",
        "\n",
        "images_per_class_directory = \"/content/x_ray_dataset/images_per_class/\"\n",
        "\n",
        "def create_directories_from_unique_categories(base_directory, unique_classes):\n",
        "    # create directories if not existing\n",
        "    for index, category in enumerate(unique_classes):\n",
        "        if not os.path.exists(base_directory + category):\n",
        "            os.makedirs(base_directory + category, mode=777)\n",
        "\n",
        "# copy images from their respective directories\n",
        "def copy_images_from_their_respective_directories(source_directory, destination_directory, images_with_one_label):\n",
        "    images_with_one_label_length = len(images_with_one_label)\n",
        "    \n",
        "    print(\"Copying {} images in theire respective directories...\".\n",
        "          format(images_with_one_label_length))\n",
        "    \n",
        "    for i in range(images_with_one_label_length):\n",
        "        image_name = images_with_one_label.iloc[i, 0]\n",
        "        image_label = images_with_one_label.iloc[i, 1]\n",
        "        \n",
        "        for root, dirs, files in os.walk(source_directory):\n",
        "            if image_name in files:\n",
        "                shutil.copy(os.path.join(root, image_name), os.path.join(destination_directory, image_label))\n",
        "                continue\n",
        "                \n",
        "        if i % 1000 == 0:\n",
        "            print(\"Images uploaded {} of {}\".\n",
        "                  format(i, images_with_one_label_length))\n",
        "    print(\"Image upload complete.\")"
      ],
      "execution_count": 0,
      "outputs": []
    },
    {
      "cell_type": "code",
      "metadata": {
        "id": "3tzLYx-P42iM",
        "colab_type": "code",
        "colab": {}
      },
      "source": [
        "# DO NOT EXECUTE THIS. THIS IS NOT NEEDED\n",
        "create_directories_from_unique_categories(images_per_class_directory, \n",
        "                                          unique_classes)\n",
        "# DO NOT EXECUTE THIS. THIS IS NOT NEEDED\n",
        "copy_images_from_their_respective_directories(\"/content/x_ray_dataset/images/\", \n",
        "                                              \"/content/x_ray_dataset/images_per_class/\", \n",
        "                                              images_with_one_label)"
      ],
      "execution_count": 0,
      "outputs": []
    },
    {
      "cell_type": "code",
      "metadata": {
        "id": "XbduSE2zs61Z",
        "colab_type": "code",
        "outputId": "dfe65fd1-48bd-453f-d8c3-e25dae61b74e",
        "colab": {
          "base_uri": "https://localhost:8080/",
          "height": 170
        }
      },
      "source": [
        "np.random.seed(1111)\n",
        "\n",
        "classes_to_select = [\"No Finding\", \"Atelectasis\", \"Nodule\", \n",
        "                     \"Pleural_Thickening\", \"Cardiomegaly\", \"Emphysema\", \"Edema\", \n",
        "                     \"Effusion\"]\n",
        "default_columns = [\"Image Index\", \"Finding Labels\", \"View Position\"]\n",
        "\n",
        "images_with_one_label[images_with_one_label[\"Finding Labels\"].isin(classes_to_select)][\"Finding Labels\"].value_counts()"
      ],
      "execution_count": 0,
      "outputs": [
        {
          "output_type": "execute_result",
          "data": {
            "text/plain": [
              "No Finding            60361\n",
              "Atelectasis            4215\n",
              "Effusion               3955\n",
              "Nodule                 2705\n",
              "Pleural_Thickening     1126\n",
              "Cardiomegaly           1093\n",
              "Emphysema               892\n",
              "Edema                   628\n",
              "Name: Finding Labels, dtype: int64"
            ]
          },
          "metadata": {
            "tags": []
          },
          "execution_count": 22
        }
      ]
    },
    {
      "cell_type": "code",
      "metadata": {
        "id": "yKqbfUMcD7nB",
        "colab_type": "code",
        "colab": {}
      },
      "source": [
        "def sample_from_different_classes(images_with_one_label, classes_to_select, \n",
        "                                  default_columns, images_to_exclude=None, \n",
        "                                  is_training=True):\n",
        "    selected_images = []\n",
        "    \n",
        "    if images_to_exclude is not None:\n",
        "        images_with_one_label = images_with_one_label[~images_with_one_label[\"Image Index\"].isin(images_to_exclude)]\n",
        "    \n",
        "    for index, class_name in enumerate(classes_to_select):\n",
        "        images_per_class = images_with_one_label[\n",
        "            images_with_one_label[\"Finding Labels\"] == class_name]\n",
        "        \n",
        "        if is_training == True:\n",
        "            if class_name == \"Edema\":\n",
        "                filtered = images_per_class.sample(n=400, replace=False)\n",
        "            elif class_name == \"Emphysema\":\n",
        "                filtered = images_per_class.sample(n=600, replace=False)\n",
        "            elif class_name == \"Cardiomegaly\":\n",
        "                filtered = images_per_class.sample(n=800, replace=False)\n",
        "            elif class_name == \"Pleural_Thickening\":\n",
        "                filtered = images_per_class.sample(n=900, replace=False)\n",
        "            elif class_name == \"No Finding\":\n",
        "                filtered = images_per_class.sample(n=3000, replace=False)\n",
        "            else:\n",
        "                filtered = images_per_class.sample(n=1000, replace=False)\n",
        "        else:\n",
        "            filtered = images_per_class.sample(n=100, \n",
        "                                               replace=False)\n",
        "\n",
        "        for i in range(len(filtered)):\n",
        "            selected_images.append([filtered.iloc[i, 0], \n",
        "                                    filtered.iloc[i, 1],\n",
        "                                    filtered.iloc[i, 2]])\n",
        "        \n",
        "    return pd.DataFrame.from_records(selected_images, columns=default_columns)\n",
        "\n",
        "sampled_images_train = sample_from_different_classes(images_with_one_label, classes_to_select, default_columns, \n",
        "                                                     images_to_exclude=None, is_training=True)\n",
        "\n",
        "# since we wont use images that are part of training, we exclude\n",
        "images_to_exclude = sampled_images_train.loc[:, \"Image Index\"]\n",
        "sampled_images_validation = sample_from_different_classes(images_with_one_label, classes_to_select, default_columns, \n",
        "                                                     images_to_exclude=images_to_exclude, is_training=False)\n",
        "\n",
        "# since we won't use images that are part of training and validation, we exclude\n",
        "images_to_exclude = images_to_exclude.append(sampled_images_validation.loc[:, \"Image Index\"])\n",
        "\n",
        "sampled_images_test = sample_from_different_classes(images_with_one_label, classes_to_select, default_columns, \n",
        "                                                    images_to_exclude=images_to_exclude, is_training=False)"
      ],
      "execution_count": 0,
      "outputs": []
    },
    {
      "cell_type": "code",
      "metadata": {
        "id": "f6Vw8q4jFik1",
        "colab_type": "code",
        "colab": {}
      },
      "source": [
        "# create new classes\n",
        "new_classes = list(sampled_images_train.iloc[:, 1].unique())\n",
        "\n",
        "# create respective directory\n",
        "train_dataset_directory = \"/content/x_ray/train/\"\n",
        "\n",
        "create_directories_from_unique_categories(train_dataset_directory, \n",
        "                                          new_classes)\n"
      ],
      "execution_count": 0,
      "outputs": []
    },
    {
      "cell_type": "code",
      "metadata": {
        "id": "ETJzNkFOEXyn",
        "colab_type": "code",
        "outputId": "98e5923f-bcd4-4330-b6ee-5493904f6709",
        "colab": {
          "base_uri": "https://localhost:8080/",
          "height": 204
        }
      },
      "source": [
        "# copy training set in their respective directories\n",
        "train_source_directory = \"/content/x_ray_dataset/images/\"\n",
        "train_destination_directory = \"/content/x_ray/train/\"\n",
        "copy_images_from_their_respective_directories(train_source_directory, \n",
        "                                              train_destination_directory, \n",
        "                                              sampled_images_train)"
      ],
      "execution_count": 0,
      "outputs": [
        {
          "output_type": "stream",
          "text": [
            "Copying 8700 images in theire respective directories...\n",
            "Images uploaded 0 of 8700\n",
            "Images uploaded 1000 of 8700\n",
            "Images uploaded 2000 of 8700\n",
            "Images uploaded 3000 of 8700\n",
            "Images uploaded 4000 of 8700\n",
            "Images uploaded 5000 of 8700\n",
            "Images uploaded 6000 of 8700\n",
            "Images uploaded 7000 of 8700\n",
            "Images uploaded 8000 of 8700\n",
            "Image upload complete.\n"
          ],
          "name": "stdout"
        }
      ]
    },
    {
      "cell_type": "code",
      "metadata": {
        "id": "MJo5v5p8GRiy",
        "colab_type": "code",
        "colab": {}
      },
      "source": [
        "def copy_image_to_directory(source_directory, destination_directory, images_with_one_label):\n",
        "    images_with_one_label_length = len(images_with_one_label)\n",
        "    \n",
        "    if not os.path.exists(destination_directory):\n",
        "        os.makedirs(destination_directory, mode=777)\n",
        "    \n",
        "    print(\"Copying {} images all in one directory...\".\n",
        "          format(images_with_one_label_length))\n",
        "    \n",
        "    for i in range(images_with_one_label_length):\n",
        "        image_name = images_with_one_label.iloc[i, 0]\n",
        "        \n",
        "        for root, dirs, files in os.walk(source_directory):\n",
        "            if image_name in files:\n",
        "                shutil.copy(os.path.join(root, image_name), os.path.join(destination_directory))\n",
        "                \n",
        "        if i % 100 == 0:\n",
        "            print(\"Images uploaded {} of {}\".\n",
        "                  format(i, images_with_one_label_length))\n",
        "    print(\"Image upload complete.\")"
      ],
      "execution_count": 0,
      "outputs": []
    },
    {
      "cell_type": "code",
      "metadata": {
        "id": "jQjotCR6IRSn",
        "colab_type": "code",
        "outputId": "5c5887bd-4fb6-4d56-dd70-19390f980e48",
        "colab": {
          "base_uri": "https://localhost:8080/",
          "height": 68
        }
      },
      "source": [
        "# for validation\n",
        "validation_source_directory = \"/content/x_ray_dataset/images/\"\n",
        "validation_destination_directory = \"/content/x_ray/validation/\"\n",
        "\n",
        "# create directories\n",
        "create_directories_from_unique_categories(validation_destination_directory, \n",
        "                                          new_classes)\n",
        "\n",
        "copy_images_from_their_respective_directories(validation_source_directory, \n",
        "                                              validation_destination_directory, \n",
        "                                              sampled_images_validation)"
      ],
      "execution_count": 0,
      "outputs": [
        {
          "output_type": "stream",
          "text": [
            "Copying 800 images in theire respective directories...\n",
            "Images uploaded 0 of 800\n",
            "Image upload complete.\n"
          ],
          "name": "stdout"
        }
      ]
    },
    {
      "cell_type": "code",
      "metadata": {
        "id": "P-tgfVxjJViQ",
        "colab_type": "code",
        "outputId": "4e3e0cae-6d0b-4a10-eaac-7c4c3ec0212a",
        "colab": {
          "base_uri": "https://localhost:8080/",
          "height": 68
        }
      },
      "source": [
        "# for test\n",
        "test_source_directory = \"/content/x_ray_dataset/images/\"\n",
        "test_destination_directory = \"/content/x_ray/test/\"\n",
        "\n",
        "# create directories\n",
        "create_directories_from_unique_categories(test_destination_directory, \n",
        "                                          new_classes)\n",
        "\n",
        "copy_images_from_their_respective_directories(test_source_directory, \n",
        "                        test_destination_directory, \n",
        "                        sampled_images_test)"
      ],
      "execution_count": 0,
      "outputs": [
        {
          "output_type": "stream",
          "text": [
            "Copying 800 images in theire respective directories...\n",
            "Images uploaded 0 of 800\n",
            "Image upload complete.\n"
          ],
          "name": "stdout"
        }
      ]
    },
    {
      "cell_type": "code",
      "metadata": {
        "id": "WdDjuiZNJ7jM",
        "colab_type": "code",
        "colab": {}
      },
      "source": [
        "# write csvs for train, test, and validation\n",
        "sampled_images_train.to_csv (r'/content/x_ray/train.csv', index = None, header=True)\n",
        "sampled_images_validation.to_csv (r'/content/x_ray/validation.csv', index = None, header=True)\n",
        "sampled_images_test.to_csv (r'/content/x_ray/test.csv', index = None, header=True)"
      ],
      "execution_count": 0,
      "outputs": []
    },
    {
      "cell_type": "code",
      "metadata": {
        "id": "vSQttFuOKk4q",
        "colab_type": "code",
        "colab": {}
      },
      "source": [
        "# copy necessary pdfs and csvs\n",
        "! cp *.pdf /content/x_ray/\n",
        "! cp *.csv /content/x_ray/"
      ],
      "execution_count": 0,
      "outputs": []
    },
    {
      "cell_type": "code",
      "metadata": {
        "id": "Ws1qdfoCakdB",
        "colab_type": "code",
        "colab": {}
      },
      "source": [
        "# put to zip file\n",
        "\n",
        "from zipfile import *\n",
        "with ZipFile('/content/x_ray_v3.zip', 'w') as zipObj:\n",
        "   # Iterate over all the files in directory\n",
        "   for folderName, subfolders, filenames in os.walk(\"/content/x_ray/\"):\n",
        "       for filename in filenames:\n",
        "           #create complete filepath of file in directory\n",
        "           filePath = os.path.join(folderName, filename)\n",
        "           # Add file to zip\n",
        "           zipObj.write(filePath)"
      ],
      "execution_count": 0,
      "outputs": []
    },
    {
      "cell_type": "code",
      "metadata": {
        "id": "o962-mCNsBBU",
        "colab_type": "code",
        "outputId": "274359d1-3326-4510-a542-4b2089d9a99b",
        "colab": {
          "base_uri": "https://localhost:8080/",
          "height": 326
        }
      },
      "source": [
        "# for upload to Google Drive\n",
        "!cd ~\n",
        "!wget https://docs.google.com/uc?id=0B3X9GlR6EmbnWksyTEtCM0VfaFE&export=download\n"
      ],
      "execution_count": 0,
      "outputs": [
        {
          "output_type": "stream",
          "text": [
            "--2019-08-15 15:32:43--  https://docs.google.com/uc?id=0B3X9GlR6EmbnWksyTEtCM0VfaFE\n",
            "Resolving docs.google.com (docs.google.com)... 74.125.20.102, 74.125.20.100, 74.125.20.101, ...\n",
            "Connecting to docs.google.com (docs.google.com)|74.125.20.102|:443... connected.\n",
            "HTTP request sent, awaiting response... 302 Moved Temporarily\n",
            "Location: https://doc-0c-48-docs.googleusercontent.com/docs/securesc/ha0ro937gcuc7l7deffksulhg5h7mbp1/lehc6oc5bq5emi5e243j4hc2dcuqdme7/1565877600000/15876260727594163214/*/0B3X9GlR6EmbnWksyTEtCM0VfaFE [following]\n",
            "Warning: wildcards not supported in HTTP.\n",
            "--2019-08-15 15:32:45--  https://doc-0c-48-docs.googleusercontent.com/docs/securesc/ha0ro937gcuc7l7deffksulhg5h7mbp1/lehc6oc5bq5emi5e243j4hc2dcuqdme7/1565877600000/15876260727594163214/*/0B3X9GlR6EmbnWksyTEtCM0VfaFE\n",
            "Resolving doc-0c-48-docs.googleusercontent.com (doc-0c-48-docs.googleusercontent.com)... 74.125.142.132, 2607:f8b0:400e:c08::84\n",
            "Connecting to doc-0c-48-docs.googleusercontent.com (doc-0c-48-docs.googleusercontent.com)|74.125.142.132|:443... connected.\n",
            "HTTP request sent, awaiting response... 200 OK\n",
            "Length: unspecified [application/x-executable]\n",
            "Saving to: ‘uc?id=0B3X9GlR6EmbnWksyTEtCM0VfaFE’\n",
            "\n",
            "uc?id=0B3X9GlR6Embn     [ <=>                ]   7.42M  --.-KB/s    in 0.09s   \n",
            "\n",
            "2019-08-15 15:32:46 (84.1 MB/s) - ‘uc?id=0B3X9GlR6EmbnWksyTEtCM0VfaFE’ saved [7785024]\n",
            "\n"
          ],
          "name": "stdout"
        }
      ]
    },
    {
      "cell_type": "code",
      "metadata": {
        "id": "oA3zy3H3yF6Q",
        "colab_type": "code",
        "colab": {}
      },
      "source": [
        "!mv uc\\?id\\=0B3X9GlR6EmbnWksyTEtCM0VfaFE gdrive"
      ],
      "execution_count": 0,
      "outputs": []
    },
    {
      "cell_type": "code",
      "metadata": {
        "id": "nqRtePvYyM1-",
        "colab_type": "code",
        "colab": {}
      },
      "source": [
        "!chmod +x gdrive"
      ],
      "execution_count": 0,
      "outputs": []
    },
    {
      "cell_type": "code",
      "metadata": {
        "id": "xrYUh_3VyR1U",
        "colab_type": "code",
        "colab": {}
      },
      "source": [
        "!sudo install gdrive /usr/local/bin/gdrive"
      ],
      "execution_count": 0,
      "outputs": []
    },
    {
      "cell_type": "code",
      "metadata": {
        "id": "8G8qX3MMQAhx",
        "colab_type": "code",
        "colab": {}
      },
      "source": [
        "rm -rf ~/.gdrive/token_*.json"
      ],
      "execution_count": 0,
      "outputs": []
    },
    {
      "cell_type": "code",
      "metadata": {
        "id": "fDaUNrWLyYPG",
        "colab_type": "code",
        "outputId": "c89dbbd8-6a8a-4316-991d-fda9ca991362",
        "colab": {
          "base_uri": "https://localhost:8080/",
          "height": 207
        }
      },
      "source": [
        "!gdrive list"
      ],
      "execution_count": 0,
      "outputs": [
        {
          "output_type": "stream",
          "text": [
            "Authentication needed\n",
            "Go to the following url in your browser:\n",
            "https://accounts.google.com/o/oauth2/auth?access_type=offline&client_id=367116221053-7n0vf5akeru7on6o2fjinrecpdoe99eg.apps.googleusercontent.com&redirect_uri=urn%3Aietf%3Awg%3Aoauth%3A2.0%3Aoob&response_type=code&scope=https%3A%2F%2Fwww.googleapis.com%2Fauth%2Fdrive&state=state\n",
            "\n",
            "Enter verification code: 4/pAF1x5l77SkmkLIsDi14VdfknjxurK-Ywm3V8zhWAaRgh9lNORu7hLY\n",
            "Id                                          Name                Type   Size       Created\n",
            "1ApvymBL3cPECtL-0YAkXxfix9VuNamV_           x_ray_v2.zip        bin    2.2 GB     2019-08-13 18:18:16\n",
            "1JDd5FM-a1C6bU6OzO4k9FrfR9xnfYxu_           x_ray.zip           bin    1.9 GB     2019-08-12 18:58:51\n",
            "1jyOfOToLt0cxyrFK_tn76JxxZ7-smvVq           x_ray_dataset.zip   bin    45.1 GB    2019-08-10 15:45:45\n",
            "0B_TPiQa2X5bLc3RhcnRlcl9maWxlX2Rhc2hlclYw   Getting started     bin    696.8 KB   2017-08-27 04:15:09\n"
          ],
          "name": "stdout"
        }
      ]
    },
    {
      "cell_type": "code",
      "metadata": {
        "id": "NYFmyWjryqu2",
        "colab_type": "code",
        "outputId": "9797f9cc-c508-4fcb-f907-878493f6eb06",
        "colab": {
          "base_uri": "https://localhost:8080/",
          "height": 51
        }
      },
      "source": [
        "! gdrive upload /content/x_ray_v3.zip"
      ],
      "execution_count": 0,
      "outputs": [
        {
          "output_type": "stream",
          "text": [
            "Uploading /content/x_ray_v3.zip\n",
            "Uploaded 1TFTlZLuZolCPkTojMOKTOqTzr9dnFSUB at 35.0 MB/s, total 4.2 GB\n"
          ],
          "name": "stdout"
        }
      ]
    }
  ]
}